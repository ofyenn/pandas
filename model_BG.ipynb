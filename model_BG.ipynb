{
 "cells": [
  {
   "attachments": {},
   "cell_type": "markdown",
   "id": "350c1685",
   "metadata": {},
   "source": [
    "# General settings"
   ]
  },
  {
   "cell_type": "code",
   "execution_count": 1,
   "id": "c87e2360",
   "metadata": {},
   "outputs": [],
   "source": [
    "import os\n",
    "import pandas as pd\n",
    "from pandas.tseries.offsets import DateOffset  \n",
    "import datetime\n",
    "import numpy as np"
   ]
  },
  {
   "cell_type": "code",
   "execution_count": null,
   "id": "b3866ff6",
   "metadata": {},
   "outputs": [],
   "source": []
  },
  {
   "cell_type": "markdown",
   "id": "bc8221a2",
   "metadata": {},
   "source": []
  },
  {
   "cell_type": "code",
   "execution_count": null,
   "id": "0dc60d25",
   "metadata": {},
   "outputs": [],
   "source": [
    "dir_path = os.getcwd()\n",
    "source = 'source3'\n",
    "base_path = dir_path + '\\\\' + source + '\\\\'"
   ]
  },
  {
   "cell_type": "code",
   "execution_count": null,
   "id": "d6c7e97d",
   "metadata": {},
   "outputs": [],
   "source": [
    "def read_excel_or_pkl(filename, header):\n",
    "    path_file_pkl = base_path + 'pickle\\\\' + filename.replace('xlsx', 'pkl')\n",
    "    if os.path.exists(path_file_pkl):\n",
    "        df= pd.read_pickle(path_file_pkl)\n",
    "    else:\n",
    "        path_file_xlsx = base_path + filename\n",
    "        df = pd.read_excel(path_file_xlsx, header)\n",
    "        df.to_pickle(path_file_pkl)\n",
    "    return df"
   ]
  },
  {
   "cell_type": "code",
   "execution_count": null,
   "id": "0e0b5996",
   "metadata": {},
   "outputs": [],
   "source": [
    "today = pd.Timestamp.today()\n",
    "current_month = pd.Timestamp(today.year, today.month, 1)\n",
    "dates_arr = pd.date_range(current_month-DateOffset(months=6), freq='MS', periods=12)"
   ]
  },
  {
   "attachments": {},
   "cell_type": "markdown",
   "id": "1e3ba3d0",
   "metadata": {},
   "source": [
    "# TURV"
   ]
  },
  {
   "attachments": {},
   "cell_type": "markdown",
   "id": "40c5807d",
   "metadata": {},
   "source": [
    "### 3.1.1 Average % overtime for the last 3 months"
   ]
  },
  {
   "cell_type": "code",
   "execution_count": null,
   "id": "a297c29c",
   "metadata": {},
   "outputs": [],
   "source": [
    "df_calc_4 = read_excel_or_pkl(\"calc.xlsx\")\n",
    "df_mis = read_excel_or_pkl(\"mis.xlsx\")\n",
    "df_nsi = read_excel_or_pkl(\"nsi.xlsx\")\n",
    "df_result = read_excel_or_pkl(\"result.xlsx\")"
   ]
  },
  {
   "cell_type": "code",
   "execution_count": null,
   "id": "b513dcf8",
   "metadata": {},
   "outputs": [],
   "source": [
    "periods_of_medium_overtimedates_arr = pd.date_range(current_month-DateOffset(months=3), freq='MS', periods=3)\n",
    "df_calc_5 = df_calc_4[(df_calc_4['Period'].isin(periods_of_medium_overtimedates_arr)) & \\\n",
    "                      (df_calc_4['TURV'] != 0)].copy()\n",
    "df_calc_6 = df_calc_5[['ClinicName', 'Specialization', 'AgeCategory', \\\n",
    "                                 'ExtraHours', 'TURV']]\n",
    "df_calc_7 = df_calc_6.groupby(['ClinicName', 'Specialization', \\\n",
    "                                          'AgeCategory']).agg({'TURV':sum, 'ExtraHours':sum}).reset_index()\n",
    "\n",
    "df_calc_7['OvertimePercentLast3Month'] = df_calc_7['ExtraHours'] / df_calc_7['TURV']\n",
    "df_calc_7.drop(['ExtraHours', 'TURV'], inplace=True, axis=1)\n",
    "medium_overtimedates = df_calc_7\n",
    "\n",
    "del df_calc_5\n",
    "del df_calc_6\n",
    "del df_calc_7"
   ]
  },
  {
   "cell_type": "code",
   "execution_count": null,
   "id": "78f4d6ad",
   "metadata": {
    "scrolled": true
   },
   "outputs": [],
   "source": [
    "df_calc_5 = df_calc_4[(df_calc_4['TURV'] != 0) & \\\n",
    "                      (df_calc_4['Period'] <= current_month.strftime('%Y.%m.%d'))].copy()\n",
    "df_calc_6 = df_calc_5[['Period', 'ClinicName', 'Specialization', 'AgeCategory', \\\n",
    "                       'TURV', 'StepVC', 'ExtraHours', 'NormWorkTime', \\\n",
    "                       'CountStakePerDay', 'VacationDays', 'NumberCalendarDays']]\n",
    "df_calc_7 = pd.merge(df_calc_6, df_mis, how=\"left\",\n",
    "    left_on=['Period', 'ClinicName', 'Specialization', 'AgeCategory'],\n",
    "    right_on=['Period', 'ClinicName', 'Specialization', 'AgeCategory'], copy=False).fillna(0)\n",
    "df_calc_8 = df_calc_7[df_calc_7['Visits'] != 0].copy()\n",
    "df_calc_8.loc[:,'WorkingTime'] = df_calc_8['TURV'] + df_calc_8['ExtraHours']\n",
    "df_calc_8.loc[:, ['CountStake']] = df_calc_8['CountStakePerDay']\n",
    "df_calc_8.loc[:, ['DoctorAppointmentTime']] = df_calc_8['Visits']*df_calc_8['StepVC']/60\n",
    "df_calc_8.loc[:, ['WorkloadTechnical']] = df_calc_8['DoctorAppointmentTime']/(df_calc_8['WorkingTime'])\n",
    "df_calc_8.loc[:, ['Overtime']] = df_calc_8['ExtraHours']\n",
    "df_calc_8.loc[:, ['NormWorkingTime']] = df_calc_8['NormWorkTime']\n",
    "df_calc_8.loc[:, ['OvertimePercentLast3Month']] = df_calc_8['Overtime'] / df_calc_8['TURV']\n",
    "df_calc_9 = df_calc_8.fillna(0).copy().rename(columns={\"NumberCalendarDays\": \"NumberCalendarDays\"})\n",
    "df_calc_9.drop(['StepVC', 'ExtraHours', 'NormWorkTime'], inplace=True, axis=1)\n",
    "df_zayavki_v_podbor_old = df_calc_9.fillna(0).copy()\n",
    "\n",
    "del df_calc_5\n",
    "del df_calc_6\n",
    "del df_calc_7\n",
    "del df_calc_8\n",
    "del df_calc_9"
   ]
  },
  {
   "attachments": {},
   "cell_type": "markdown",
   "id": "33f16456",
   "metadata": {},
   "source": [
    "### 3.2.1 VC"
   ]
  },
  {
   "cell_type": "code",
   "execution_count": null,
   "id": "985c4f31",
   "metadata": {},
   "outputs": [],
   "source": [
    "df_calc_5 = df_calc_4[(df_calc_4['Period'] == current_month.strftime('%Y.%m.%d')) & \\\n",
    "                      (df_calc_4['CountStakePerDay'] != 0).copy()]\n",
    "df_calc_6 = df_calc_5[['ClinicName', 'Specialization', 'AgeCategory', 'CountStakePerDay']]\n",
    "df_number_staff = df_calc_6.groupby(['ClinicName', 'Specialization',\n",
    "                               'AgeCategory']).agg({'CountStakePerDay':sum}).copy().reset_index()\n",
    "del df_calc_5\n",
    "del df_calc_6"
   ]
  },
  {
   "cell_type": "code",
   "execution_count": null,
   "id": "e882d46a",
   "metadata": {},
   "outputs": [],
   "source": [
    "df_calc_5 = df_calc_4[(df_calc_4['Period'] > current_month)].copy()\n",
    "df_calc_6 = df_calc_5[['Period', 'ClinicName', 'Specialization', 'AgeCategory', 'NumberCalendarDays', \\\n",
    "                       'VisitsVC', 'StepVC', 'VacationDaysPeriodеPlan', \\\n",
    "                       'NormWorkTime']]\n",
    "df_calc_6 = df_calc_6.groupby(['Period', 'ClinicName', 'Specialization', 'AgeCategory',  'NumberCalendarDays', \\\n",
    "                               'VisitsVC', 'StepVC', \\\n",
    "                               'NormWorkTime']).agg({'VacationDaysPeriodеPlan':sum}).copy().reset_index()\n",
    "df_calc_7 = pd.merge(df_calc_6, medium_overtimedates, how=\"left\",\n",
    "                     left_on=['ClinicName', 'Specialization', 'AgeCategory'],\n",
    "                     right_on=['ClinicName', 'Specialization', 'AgeCategory'], copy=False).fillna(0)\n",
    "df_calc_8 = pd.merge(df_calc_7, df_number_staff, how=\"left\",\n",
    "                     left_on=['ClinicName', 'Specialization', 'AgeCategory'],\n",
    "                     right_on=['ClinicName', 'Specialization', 'AgeCategory'], copy=False).fillna(0)\n",
    "df_calc_8['CountStake'] = df_calc_8['CountStakePerDay']\n",
    "df_calc_9 = df_calc_8.copy()\n",
    "df_calc_9.loc[:, ['DoctorAppointmentTime']] = df_calc_9['Visits']*df_calc_9['StepVC']/60\n",
    "df_zayavki_v_podbor_VC = df_calc_9.fillna(0).copy()\n",
    "\n",
    "del df_calc_5\n",
    "del df_calc_6\n",
    "del df_calc_7\n",
    "del df_calc_8\n",
    "del df_calc_9"
   ]
  },
  {
   "cell_type": "code",
   "execution_count": null,
   "id": "fcb166fb",
   "metadata": {},
   "outputs": [],
   "source": [
    "df_zayavki_v_podbor = pd.concat([df_zayavki_v_podbor_old, df_zayavki_v_podbor_VC])\n",
    "\n",
    "del df_zayavki_v_podbor_old\n",
    "del df_zayavki_v_podbor_VC"
   ]
  },
  {
   "attachments": {},
   "cell_type": "markdown",
   "id": "5d2e69df",
   "metadata": {},
   "source": [
    "### 3.2.3 ESTAFF"
   ]
  },
  {
   "cell_type": "code",
   "execution_count": null,
   "id": "81841266",
   "metadata": {},
   "outputs": [],
   "source": [
    "def custom_date_parser(date_str):\n",
    "    date = datetime.datetime.strptime(date_str, '%d.%m.%Y')\n",
    "    return date\n",
    "\n",
    "def search_clinic_by_str(business_unit_str):\n",
    "    if isinstance(business_unit_str, str) != True:\n",
    "        return np.nan\n",
    "    business_unit = np.nan\n",
    "    list_units = business_unit_str.split('»')\n",
    "    for i in range(len(list_units)):\n",
    "        unit = list_units[i].strip()\n",
    "        if unit.startswith(('OOO',)):\n",
    "            business_unit = unit\n",
    "            break\n",
    "    return business_unit\n",
    "\n",
    "df_estaff_1 = pd.read_excel(base_path + 'ESTAFF.xlsx', header=0, parse_dates=['Opening date'], \\\n",
    "                          converters={'Final candidate': lambda x: x != ''},\n",
    "                          date_parser=custom_date_parser, \\\n",
    "                          index_col='Opening date', \\\n",
    "                          dtype={'Days at work':np.uint16, \n",
    "                                 'Stage':'category'\n",
    "                                },\n",
    "                          usecols = ['Name', 'Assets', 'Subdivision',\n",
    "                                     'Days at work', 'SizeRate', 'Opening date',\n",
    "                                     'Final candidate'\n",
    "                                    ] \n",
    "                         )\n",
    "df_estaff_1['ClinicName'] = df_estaff_1.apply(lambda row: search_clinic_by_str(row['Subdivision']), axis=1)\n",
    "df_estaff_1 = df_estaff_1[(df_estaff_1['Name'].str.contains(r'\\bDoctor')) &\n",
    "                              (df_estaff_1['ClinicName'].isnull() == False)\n",
    "                             ].copy().reset_index()\n",
    "df_estaff_1.loc[df_estaff_1['Assets'].isnull(), ['Assets']] = df_estaff_1['ClinicName']"
   ]
  },
  {
   "cell_type": "code",
   "execution_count": null,
   "id": "bfff177f",
   "metadata": {},
   "outputs": [],
   "source": [
    "df_estaff_nsi_position = read_excel_or_pkl('ESTAFF_NSI_positions.xlsx', 0)\n",
    "df_estaff_2 = pd.merge(df_estaff_1, df_estaff_nsi_position, how=\"left\", left_on=['Name'],right_on=['Name']) \n",
    "df_estaff_2['ReferencePosition_'] = df_estaff_2['Name_NSI'].str.lower()\n",
    "\n",
    "del df_estaff_nsi_position"
   ]
  },
  {
   "cell_type": "code",
   "execution_count": null,
   "id": "a587e8ab",
   "metadata": {},
   "outputs": [],
   "source": [
    "df_estaff_nsi_clinic = read_excel_or_pkl('ESTAFF_NSI_clinic.xlsx', 0)\n",
    "df_estaff_nsi_clinic_1 = df_estaff_nsi_clinic[df_estaff_nsi_clinic['ParticipateReport'].isnull() == False]"
   ]
  },
  {
   "cell_type": "code",
   "execution_count": null,
   "id": "34abd7d4",
   "metadata": {
    "scrolled": true
   },
   "outputs": [],
   "source": [
    "df_estaff_3 = pd.merge(df_estaff_2, df_estaff_nsi_clinic_1, how=\"inner\",\n",
    "                       left_on=['Assets'], right_on=['Assets'])\n",
    "df_estaff_itog = df_estaff_3[['OpeningDate', 'ReferencePosition_', 'AgeCategory', \\\n",
    "                              'ClinicName_NSI', 'SizeRate', 'FinalCandidate']]\\\n",
    "                              .copy().rename(columns={\"ClinicName_NSI\": \"ClinicName\"})\n",
    "del df_estaff_nsi_clinic_1\n",
    "del df_estaff_2\n",
    "del df_estaff_3"
   ]
  },
  {
   "cell_type": "code",
   "execution_count": null,
   "id": "837f458e",
   "metadata": {},
   "outputs": [],
   "source": [
    "df_nsi_for_estaff_init = df_nsi[['ReferencePosition_', 'Specialization']].copy()\n",
    "df_nsi_for_estaff_init = df_nsi_for_estaff_init[df_nsi_for_estaff_init['Specialization'] != '-']\n",
    "df_nsi_for_estaff_init['Quantity'] = 1\n",
    "df_nsi_for_estaff_1 = df_nsi_for_estaff_init.groupby(['ReferencePosition_',\n",
    "                                               'Specialization']).agg({'Quantity':sum}).copy().reset_index()\n",
    "df_nsi_for_estaff_2 = df_nsi_for_estaff_1[['ReferencePosition_', 'Quantity']]\n",
    "df_nsi_for_estaff_2 = df_nsi_for_estaff_2.groupby(['ReferencePosition_']).agg({'Quantity':max})\n",
    "df_nsi_for_estaff_3 = pd.merge(df_nsi_for_estaff_1, df_nsi_for_estaff_2,\n",
    "                            how=\"inner\",\n",
    "                            left_on=['ReferencePosition_', 'Quantity'],\n",
    "                            right_on=['ReferencePosition_', 'Quantity']) \n",
    "df_nsi_for_estaff_4 = df_nsi_for_estaff_3[['ReferencePosition_', 'Specialization']].copy()\n",
    "df_nsi_for_estaff_5 = pd.merge(df_estaff_itog, df_nsi_for_estaff_4,\n",
    "                            how=\"inner\",\n",
    "                            left_on=['ReferencePosition_'],\n",
    "                            right_on=['ReferencePosition_']) \n",
    "df_nsi_for_estaff_5.drop(['ReferencePosition_'], inplace=True, axis=1)"
   ]
  },
  {
   "cell_type": "code",
   "execution_count": null,
   "id": "bf7b685d",
   "metadata": {},
   "outputs": [],
   "source": [
    "def insert_time(date):\n",
    "    return date.replace(day=1)\n",
    "\n",
    "df_nsi_for_estaff_5['Period'] = df_nsi_for_estaff_5.apply(lambda r: insert_time(r['OpeningDate']), axis=1).copy()\n",
    "df_nsi_for_estaff_6 = df_nsi_for_estaff_5.rename(columns={'SizeRate': 'SubmittedRequestMonthSub'}).copy()\n",
    "df_nsi_for_estaff_7 = df_nsi_for_estaff_6.groupby(['Period', 'ClinicName', 'Specialization', 'AgeCategory']) \\\n",
    "                                    .agg({'SubmittedRequestMonthSub':sum}).copy().reset_index()"
   ]
  },
  {
   "cell_type": "code",
   "execution_count": null,
   "id": "cad71353",
   "metadata": {},
   "outputs": [],
   "source": [
    "df_zayavki_v_podbor_1 = pd.merge(df_zayavki_v_podbor, df_nsi_for_estaff_7, how=\"left\",\n",
    "                     left_on=['Period', 'ClinicName', 'Specialization', 'AgeCategory'],\n",
    "                     right_on=['Period', 'ClinicName', 'Specialization', 'AgeCategory'], copy=False)"
   ]
  },
  {
   "cell_type": "code",
   "execution_count": null,
   "id": "e89bd7c3",
   "metadata": {},
   "outputs": [],
   "source": [
    "del df_nsi_for_estaff_6\n",
    "del df_nsi_for_estaff_7"
   ]
  },
  {
   "cell_type": "code",
   "execution_count": null,
   "id": "26105b7a",
   "metadata": {},
   "outputs": [],
   "source": [
    "def get_month_of_expected_return_to_work(date, final_candidate):\n",
    "    date = date + pd.DateOffset(months=1)\n",
    "    if date < today:\n",
    "        date = today\n",
    "        if final_candidate == False:\n",
    "            date = date + DateOffset(months=1)\n",
    "    date = date.replace(day=1)\n",
    "    return date\n",
    "\n",
    "df_nsi_for_estaff_6 = df_nsi_for_estaff_5[['ClinicName', 'Specialization', 'AgeCategory', 'FinalCandidate',\n",
    "                                           'SizeRate', 'OpeningDate']].copy().reset_index()\n",
    "df_nsi_for_estaff_7 = df_nsi_for_estaff_6.rename(\n",
    "    columns={'SizeRate': 'SubmittedRequestMonthStart'}).copy()\n",
    "df_nsi_for_estaff_7['Period'] = df_nsi_for_estaff_7.apply(\n",
    "    lambda r: get_month_of_expected_return_to_work(r['OpeningDate'], r['FinalCandidate']), axis=1)\n",
    "df_nsi_for_estaff_8 = df_nsi_for_estaff_7.groupby(['Period', 'ClinicName', 'Specialization', 'AgeCategory']) \\\n",
    "    .agg({'SubmittedRequestMonthStart': sum}).copy().reset_index()\n",
    "df_zayavki_v_podbor_2_0 = pd.merge(df_zayavki_v_podbor_1, df_nsi_for_estaff_8, how=\"left\",\n",
    "                                 left_on=['Period', 'ClinicName',\n",
    "                                          'Specialization', 'AgeCategory'],\n",
    "                                 right_on=['Period', 'ClinicName', 'Specialization', 'AgeCategory'], copy=False)"
   ]
  },
  {
   "cell_type": "code",
   "execution_count": null,
   "id": "67a4d716",
   "metadata": {},
   "outputs": [],
   "source": [
    "max_period = max(dates_arr)\n",
    "mask = df_zayavki_v_podbor_2_0['SubmittedRequestMonthStart'].isnull() == False\n",
    "df_zayavki_v_podbor_2_1 = df_zayavki_v_podbor_2_0[mask].copy()\n",
    "df_zayavki_v_podbor_2_2 = df_zayavki_v_podbor_2_1.copy()\n",
    "while len(df_zayavki_v_podbor_2_1) > 0:\n",
    "    df_zayavki_v_podbor_2_1['Period'] = df_zayavki_v_podbor_2_1['Period'] + pd.DateOffset(months=1)\n",
    "    df_zayavki_v_podbor_2_1 = df_zayavki_v_podbor_2_1[df_zayavki_v_podbor_2_1['Period'] <= max_period]\n",
    "    df_zayavki_v_podbor_2_2 = pd.concat([df_zayavki_v_podbor_2_2, df_zayavki_v_podbor_2_1])\n",
    "df_zayavki_v_podbor_2_3 = df_zayavki_v_podbor_2_2.groupby(['Period',\n",
    "                                                           'ClinicName',\n",
    "                                                           'Specialization',\n",
    "                                                           'AgeCategory']) \\\n",
    "                                                 .agg({'SubmittedRequestMonthStart':sum}) \\\n",
    "                                                 .copy() \\\n",
    "                                                 .reset_index()\n",
    "df_zayavki_v_podbor_2_4 = df_zayavki_v_podbor_2_3.rename(columns={\"SubmittedRequestMonthStart\":\n",
    "                                                                  \"SubmittedRequestMonthStart_1\"}).copy()\n",
    "df_zayavki_v_podbor_2_5 = pd.merge(df_zayavki_v_podbor_2_0, df_zayavki_v_podbor_2_4,\n",
    "                                        how=\"left\",\n",
    "                                        left_on=['Period', 'ClinicName', 'Specialization', 'AgeCategory'],\n",
    "                                        right_on=['Period', 'ClinicName', 'Specialization', 'AgeCategory'],\n",
    "                                        copy=False)\n",
    "mask = df_zayavki_v_podbor_2_5['SubmittedRequestMonthStart_1'].isnull() == False\n",
    "df_zayavki_v_podbor_2_5.loc[mask, ['CountStake']] = df_zayavki_v_podbor_2_5['CountStake'] + \\\n",
    "                            df_zayavki_v_podbor_2_5['SubmittedRequestMonthStart_1']\n",
    "\n",
    "df_zayavki_v_podbor_2_5.drop(['SubmittedRequestMonthStart_1'], inplace=True, axis=1)\n",
    "df_zayavki_v_podbor_2_5.to_excel('df_zayavki_v_podbor_2_5.xlsx')"
   ]
  },
  {
   "cell_type": "code",
   "execution_count": null,
   "id": "e10ae65b",
   "metadata": {},
   "outputs": [],
   "source": [
    "df_zayavki_v_podbor_2_5.loc[(df_zayavki_v_podbor_2_5['Period'] > current_month) &\n",
    "                             (df_zayavki_v_podbor_2_5['CountStake'] > 0), ['TURV']] = \\\n",
    "            df_zayavki_v_podbor_2_5['NormWorkingTime'] * df_zayavki_v_podbor_2_5['CountStake'] * 0.97 - \\\n",
    "            (df_zayavki_v_podbor_2_5['NormWorkingTime'] / df_zayavki_v_podbor_2_5['NumberCalendarDays'] * \\\n",
    "                        df_zayavki_v_podbor_2_5['VacationDays'])\n",
    "\n",
    "df_zayavki_v_podbor_2_5.loc[:, ['AverageAnnualNormWorkWorkingTimeMonth']] = 20.6*6.6\n",
    "df_zayavki_v_podbor_2_5.loc[:, ['AverageNumberCalendarDaysMonth']] = 365/12\n",
    "df_zayavki_v_podbor_2_5.loc[:, ['NormalProcOvertimeDueToRateDifference']] = \\\n",
    "    ((df_zayavki_v_podbor_2_5['AverageAnnualNormWorkWorkingTimeMonth'] / \\\n",
    "         df_zayavki_v_podbor_2_5['AverageNumberCalendarDaysMonth']) / \\\n",
    "     (df_zayavki_v_podbor_2_5['NormWorkingTime'] / \\\n",
    "         df_zayavki_v_podbor_2_5['NumberCalendarDays']) \\\n",
    "    ) - 1\n",
    "df_zayavki_v_podbor_2_5.loc[df_zayavki_v_podbor_2_5['Period'] > current_month, ['Overtime']] = \\\n",
    "        df_zayavki_v_podbor_2_5['TURV'] * (df_zayavki_v_podbor_2_5['OvertimePercentLast3Month'] + \\\n",
    "            df_zayavki_v_podbor_2_5['NormalProcOvertimeDueToRateDifference'])\n",
    "df_zayavki_v_podbor_2_5.loc[:, ['WorkingTime']] = df_zayavki_v_podbor_2_5['TURV'] + df_zayavki_v_podbor_2_5['Overtime']\n",
    "df_zayavki_v_podbor_2_5.loc[df_zayavki_v_podbor_2_5['WorkingTime'] > 0, ['WorkloadTechnical']] = df_zayavki_v_podbor_2_5['DoctorAppointmentTime']/ \\\n",
    "                                                                    df_zayavki_v_podbor_2_5['WorkingTime']"
   ]
  },
  {
   "attachments": {},
   "cell_type": "markdown",
   "id": "53f8caec",
   "metadata": {},
   "source": [
    "Create table with \"RequiredRequestMonthStart\""
   ]
  },
  {
   "cell_type": "code",
   "execution_count": null,
   "id": "aa314e9a",
   "metadata": {},
   "outputs": [],
   "source": [
    "def calculation_workload_old_period(df, index, employees):\n",
    "    appointment_time = df.loc[index,'DoctorAppointmentTime']\n",
    "    normal_working_hours = df.loc[index,'NormWorkingTime']\n",
    "    added_employees = employees - df.loc[index,'CountStake']\n",
    "    working_time = df.loc[index,'WorkingTime']\n",
    "    workload = appointment_time/(working_time+added_employees*normal_working_hours)\n",
    "    return workload\n",
    "\n",
    "def calculation_workload_future_period(df, index, employees):\n",
    "    appointment_time = df.loc[index,'DoctorAppointmentTime']\n",
    "    normal_working_hours = df.loc[index,'NormWorkingTime']\n",
    "    vacation_days = df.loc[index,'VacationDays']\n",
    "    calendar_days_in_month = df.loc[index,'NumberCalendarDays']\n",
    "    coefficient = 1 + df.loc[index,'OvertimePercentLast3Month'] + \\\n",
    "                      df.loc[index,'NormalProcOvertimeDueToRateDifference']\n",
    "    workload = appointment_time/((employees*normal_working_hours*0.97 - \n",
    "        (normal_working_hours/calendar_days_in_month*vacation_days))*coefficient)\n",
    "    return workload\n",
    "\n",
    "def calculation_workload(df, index, employees):\n",
    "    if df.loc[index,'Period'] > current_month:\n",
    "        return calculation_workload_future_period(df, index, employees)\n",
    "    else:\n",
    "        return calculation_workload_old_period(df, index, employees)\n",
    "\n",
    "def calculation_increase_by(df, index, general_increase_by):\n",
    "    increase_by = 0\n",
    "    employees_with_applications = df.loc[index,'CountStakeWithRequest']\n",
    "    workload = calculation_workload(df, index, employees_with_applications + general_increase_by)\n",
    "    while workload >= 0.7:\n",
    "        increase_by = increase_by + 0.25\n",
    "        employees_with_applications_cal = employees_with_applications + \\\n",
    "            general_increase_by + increase_by\n",
    "        workload = calculation_workload(df, index, employees_with_applications_cal)\n",
    "    return increase_by\n",
    "\n",
    "def calculation(df):\n",
    "    general_increase_by = 0\n",
    "    for index in df.index:\n",
    "        increase_by = calculation_increase_by(df, index, general_increase_by)\n",
    "        general_increase_by = general_increase_by + increase_by\n",
    "        df.loc[index,'RequiredRequestMonthStart'] = increase_by\n",
    "        employees_with_applications = df.loc[index,'CountStakeWithRequest']\n",
    "        df.loc[index,'CountStakeWithRequest'] = employees_with_applications + general_increase_by\n",
    "    return df\n",
    "\n",
    "df_zayavki_v_podbor_2 = df_zayavki_v_podbor_2_5.copy()\n",
    "\n",
    "df_zayavki_v_podbor_2['RequiredRequestMonthStart'] = 0 \n",
    "df_zayavki_v_podbor_2['CountStakeWithRequest'] = df_zayavki_v_podbor_2['CountStake']\n",
    "df_zayavki_v_podbor_3 = df_zayavki_v_podbor_2.groupby(by=['ClinicName','Specialization','AgeCategory']).apply(lambda mini_df: calculation(mini_df))\n",
    "\n",
    "mask = df_zayavki_v_podbor_3['Period'] <= current_month\n",
    "df_zayavki_v_podbor_3.loc[mask, ['WorkingTimeWithRequest']] = df_zayavki_v_podbor_3['WorkingTime'] + \\\n",
    "                                                                                    (df_zayavki_v_podbor_3['CountStakeWithRequest'] - \\\n",
    "                                                                                         - df_zayavki_v_podbor_3['CountStake']) * \\\n",
    "                                                                                            df_zayavki_v_podbor_3['NormWorkingTime']\n",
    "mask = df_zayavki_v_podbor_3['Period'] > current_month\n",
    "df_zayavki_v_podbor_3.loc[mask, ['WorkingTimeWithRequest']] = df_zayavki_v_podbor_3['NormWorkingTime'] * \\\n",
    "                                                                                    df_zayavki_v_podbor_3['CountStakeWithRequest'] * \\\n",
    "                                                                                    0.97 - (df_zayavki_v_podbor_3['NormWorkingTime']/ \\\n",
    "                                                                                            df_zayavki_v_podbor_3['NumberCalendarDays'] * \\\n",
    "                                                                                            df_zayavki_v_podbor_3['VacationDays'])\n",
    "df_zayavki_v_podbor_3.loc[mask, ['WorkingTimeWithRequest']] = df_zayavki_v_podbor_3['WorkingTimeWithRequest'] * \\\n",
    "                                                                                 (1 + df_zayavki_v_podbor_3['OvertimePercentLast3Month'] + \\\n",
    "                                                                                      df_zayavki_v_podbor_3['NormalProcOvertimeDueToRateDifference'])\n",
    "mask = df_zayavki_v_podbor_3['RequiredRequestMonthStart'] == 0\n",
    "df_zayavki_v_podbor_3.loc[mask, ['RequiredRequestMonthStart']] = np.NaN\n",
    "df_zayavki_v_podbor_4 = df_zayavki_v_podbor_3.copy()\n",
    "df_zayavki_v_podbor_4.to_excel('df_zayavki_v_podbor_4.xlsx')"
   ]
  },
  {
   "cell_type": "code",
   "execution_count": null,
   "id": "2e5ebfd6",
   "metadata": {},
   "outputs": [],
   "source": [
    "df_zayavki_v_podbor_4_1 = df_zayavki_v_podbor_4[df_zayavki_v_podbor_4['RequiredRequestMonthStart'] != 0].copy()\n",
    "df_zayavki_v_podbor_4_1['Period'] = df_zayavki_v_podbor_4_1['Period'] - pd.offsets.MonthBegin()\n",
    "df_zayavki_v_podbor_4_2 = df_zayavki_v_podbor_4_1[['Period', 'ClinicName', 'Specialization', \\\n",
    "                                                   'AgeCategory', \\\n",
    "                                                   'RequiredRequestMonthStart']].copy().reindex()\n",
    "df_zayavki_v_podbor_4_2 = df_zayavki_v_podbor_4_2.rename(\n",
    "                                                    columns={'RequiredRequestMonthStart': \\\n",
    "                                                             'RequiredRequestMonthSub'})\n",
    "df_zayavki_v_podbor_5 = pd.merge(df_zayavki_v_podbor_4, df_zayavki_v_podbor_4_2, how=\"left\",\n",
    "                                    left_on=['Period', 'ClinicName',\n",
    "                                        'Specialization', 'AgeCategory'],\n",
    "                                    right_on=['Period', 'ClinicName', \n",
    "                                        'Specialization', 'AgeCategory'], copy=True)\n",
    "df_zayavki_v_podbor_5.to_excel('df_zayavki_v_podbor_5.xlsx')"
   ]
  },
  {
   "cell_type": "code",
   "execution_count": null,
   "id": "218c1015",
   "metadata": {},
   "outputs": [],
   "source": [
    "df_zayavki_v_podbor_6 = df_zayavki_v_podbor_5[df_zayavki_v_podbor_5['WorkingTimeWithRequest']>=0]\n",
    "\n",
    "order = ['Period',\n",
    "            'ClinicName',\n",
    "            'AgeCategory',\n",
    "            'Specialization',\n",
    "            'TURV',\n",
    "            'CountStakePerDay',\n",
    "            'VacationDays',\n",
    "            'Visits',\n",
    "            'WorkingTime',\n",
    "            'CountStake',\n",
    "            'DoctorAppointmentTime',\n",
    "            'NormWorkingTime',\n",
    "            'Overtime',\n",
    "            'OvertimePercentLast3Month',\n",
    "            'WorkloadTechnical',\n",
    "            'SubmittedRequestMonthSub',\n",
    "            'SubmittedRequestMonthStart',\n",
    "            'RequiredRequestMonthSub',\n",
    "            'RequiredRequestMonthStart',\n",
    "            'CountStakeWithRequest',\n",
    "            'WorkingTimeWithRequest']\n",
    "df_result  = df_zayavki_v_podbor_6[order]"
   ]
  },
  {
   "attachments": {},
   "cell_type": "markdown",
   "id": "1ab0df05",
   "metadata": {},
   "source": [
    "# Update BI"
   ]
  },
  {
   "cell_type": "code",
   "execution_count": null,
   "id": "d727c490",
   "metadata": {},
   "outputs": [],
   "source": [
    "import pyodbc\n",
    "import urllib\n",
    "import sqlalchemy as sa\n",
    "from contextlib import closing\n",
    "\n",
    "df_result = df_result.round(decimals=4)\n",
    "for k in df_result.keys():\n",
    "    df_result.loc[df_result[k] == float('-inf'), k] = None\n",
    "    df_result.loc[df_result[k] == float('inf'), k] = None\n",
    "\n",
    "pyodbc.pooling = False\n",
    "conn_str = (\n",
    "    r'DRIVER={SQL Server};'\n",
    "    r'Server=**********;'\n",
    "    r'Database=**********;'\n",
    "    r';UID=**********;PWD=**********'+\"\\\\\")\n",
    "quoted_conn_str = urllib.parse.quote_plus(conn_str)\n",
    "engine = sa.create_engine('mssql+pyodbc:///?odbc_connect={}'.format(quoted_conn_str))\n",
    "periods = tuple(set(df_result['Period'].apply(lambda x: x.date().strftime('%Y-%m-%d')).to_list()))\n",
    "if len(periods) == 1:\n",
    "    periods = f\"('{periods[0]}')\"\n",
    "with closing(engine.connect()) as conn:\n",
    "    conn.execute(f\"\"\"DELETE FROM dim.HrRecruitmentRequest \n",
    "                      WHERE Period in {periods} \n",
    "                        AND ClinicName in {tuple(set(df_result['ClinicName'].to_list()))}\"\"\")\n",
    "    df_result.to_sql('HrRecruitmentRequest', conn, 'dim', index=False, if_exists='append')\n",
    "conn.close()\n",
    "engine.dispose()"
   ]
  },
  {
   "cell_type": "code",
   "execution_count": null,
   "id": "f6815fc4",
   "metadata": {},
   "outputs": [],
   "source": []
  }
 ],
 "metadata": {
  "celltoolbar": "Необработанный формат ячейки",
  "hide_input": false,
  "kernelspec": {
   "display_name": ".venv",
   "language": "python",
   "name": "python3"
  },
  "language_info": {
   "codemirror_mode": {
    "name": "ipython",
    "version": 3
   },
   "file_extension": ".py",
   "mimetype": "text/x-python",
   "name": "python",
   "nbconvert_exporter": "python",
   "pygments_lexer": "ipython3",
   "version": "3.11.0rc1 (main, Aug 12 2022, 10:02:14) [GCC 11.2.0]"
  },
  "toc": {
   "base_numbering": 1,
   "nav_menu": {
    "height": "299px",
    "width": "172px"
   },
   "number_sections": true,
   "sideBar": true,
   "skip_h1_title": false,
   "title_cell": "Table of Contents",
   "title_sidebar": "Оглавление",
   "toc_cell": false,
   "toc_position": {
    "height": "584.125px",
    "left": "10px",
    "top": "150px",
    "width": "490.817px"
   },
   "toc_section_display": true,
   "toc_window_display": true
  },
  "vscode": {
   "interpreter": {
    "hash": "9bb87a38c4faec2c85613467e8ce38f46891e3138e236f2d5e64e7e20e155aaf"
   }
  }
 },
 "nbformat": 4,
 "nbformat_minor": 5
}
